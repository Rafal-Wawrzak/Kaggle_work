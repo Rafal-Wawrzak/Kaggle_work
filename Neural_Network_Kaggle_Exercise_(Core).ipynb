{
  "cells": [
    {
      "cell_type": "markdown",
      "metadata": {
        "id": "view-in-github",
        "colab_type": "text"
      },
      "source": [
        "<a href=\"https://colab.research.google.com/github/Rafal-Wawrzak/Kaggle_work/blob/main/Neural_Network_Kaggle_Exercise_(Core).ipynb\" target=\"_parent\"><img src=\"https://colab.research.google.com/assets/colab-badge.svg\" alt=\"Open In Colab\"/></a>"
      ]
    },
    {
      "cell_type": "markdown",
      "metadata": {
        "id": "EY5MCIE8zmyG"
      },
      "source": [
        "#Importing\n"
      ]
    },
    {
      "cell_type": "code",
      "execution_count": null,
      "metadata": {
        "id": "NggZSlo7zfL4"
      },
      "outputs": [],
      "source": [
        "import pandas as pd\n",
        "import matplotlib.pyplot as plt\n",
        "import seaborn as sns\n",
        "import numpy as np\n",
        "\n",
        "from sklearn.model_selection import train_test_split\n",
        "from sklearn.metrics import classification_report, confusion_matrix\n",
        "from sklearn.preprocessing import OneHotEncoder, StandardScaler\n",
        "from sklearn.compose import make_column_transformer, make_column_selector\n",
        "from sklearn.pipeline import make_pipeline\n",
        "\n",
        "from sklearn.impute import SimpleImputer\n",
        "from sklearn.linear_model import LinearRegression\n",
        "\n",
        "\n",
        "from tensorflow.keras.models import Sequential\n",
        "from tensorflow.keras.layers import Dense\n",
        "\n",
        "from sklearn import set_config\n",
        "set_config(display='diagram')"
      ]
    },
    {
      "cell_type": "code",
      "execution_count": null,
      "metadata": {
        "colab": {
          "base_uri": "https://localhost:8080/"
        },
        "id": "945B5IJyz8-0",
        "outputId": "6c156ed4-a054-4e93-fe4e-ee77b661df0e"
      },
      "outputs": [
        {
          "output_type": "stream",
          "name": "stdout",
          "text": [
            "Drive already mounted at /content/drive; to attempt to forcibly remount, call drive.mount(\"/content/drive\", force_remount=True).\n"
          ]
        }
      ],
      "source": [
        "from google.colab import drive\n",
        "drive.mount('/content/drive')"
      ]
    },
    {
      "cell_type": "markdown",
      "metadata": {
        "id": "XpWZVRwUzrh-"
      },
      "source": [
        "#definintions"
      ]
    },
    {
      "cell_type": "code",
      "execution_count": null,
      "metadata": {
        "id": "rPKNI_JUqeFj"
      },
      "outputs": [],
      "source": [
        "def  evalute(y_true, y_pred, class_report=True, matrix=True, color ='Reds'):\n",
        "    if class_report ==  True:\n",
        "        report = classification_report(y_true, y_pred)\n",
        "        print(report)\n",
        "    if matrix == True:\n",
        "        confuse = confusion_matrix(y_true, y_pred)\n",
        "        sns.heatmap(confuse,\n",
        "                    cmap = color,\n",
        "                    annot= True,\n",
        "                    fmt='g'\n",
        "                    )"
      ]
    },
    {
      "cell_type": "code",
      "execution_count": null,
      "metadata": {
        "id": "tyAxeYCLXwjN"
      },
      "outputs": [],
      "source": [
        "def pipe_quick(transform, classifier):\n",
        "    pipe = make_pipeline(transform, classifier)\n",
        "    return pipe"
      ]
    },
    {
      "cell_type": "code",
      "execution_count": null,
      "metadata": {
        "id": "Czi8vXvvO5Pa"
      },
      "outputs": [],
      "source": [
        "def printNull(dataFrame):\n",
        "    '''\n",
        "    prints the Nulls in a Data Set\n",
        "    '''\n",
        "    print(dataFrame.isnull().sum())"
      ]
    },
    {
      "cell_type": "code",
      "execution_count": null,
      "metadata": {
        "id": "rCj0sMu0RHUS"
      },
      "outputs": [],
      "source": [
        "def simple_evalute(y_test, y_pred):\n",
        "    cm = confusion_matrix(y_test, y_pred)\n",
        "    cm.ravel()\n",
        "    TN, FP, FN, TP = cm.ravel()\n",
        "    print('Accuracy Score: ',(TP+TN)/(TP+TN+FP+FN))\n",
        "    print('Precision Score: ',TP/(TP+FP))\n",
        "    print('Recall/Sensitivity Score: ',TP/(TP+FN))\n",
        "    print('Specificity Score: ',TN/(TN+FP))"
      ]
    },
    {
      "cell_type": "code",
      "execution_count": null,
      "metadata": {
        "id": "9QtLFBYZPn4a"
      },
      "outputs": [],
      "source": [
        "#Fuctions made to look for stuff and less coding down the line\n",
        "def checkDataframeColum(dataFrame, columnName = True):#WIP:TODO: a lot\n",
        "    '''\n",
        "    Will return True if it's a dataframe and the column is in the dataframe\n",
        "    Other wise it will throw an error.\n",
        "    '''\n",
        "    try:\n",
        "        type(dataFrame) == 'pandas.core.frame.DataFrame'\n",
        "        return True\n",
        "    except ValueError:\n",
        "        print('Wrong DataFrame Type Need to be Panda')\n",
        "\n",
        "\n",
        "def startUpDatacleaning(dataFrame):\n",
        "    print('----- Values Types -----')    \n",
        "    dataFrame.info()\n",
        "    print('\\n\\n\\n')\n",
        "    print('----- Null Values -----')\n",
        "    printNull(dataFrame)\n",
        "    print('\\n\\n\\n')\n",
        "    print('----- Group By Data -----')\n",
        "    grouopByDataFrame(dataFrame)\n",
        "    print('\\n\\n\\n')\n",
        "    print('----- Min Max, and Mean -----')\n",
        "    minMaxMeanDF(dataFrame)\n",
        "\n",
        "def minMaxMeanDF(dataFrame):\n",
        "    for i in dataFrame:\n",
        "        if dataFrame.dtypes[i] == 'int64':\n",
        "            minMaxMean(dataFrame, i, printOut=True)\n",
        "        elif dataFrame.dtypes[i] == 'float64':\n",
        "            minMaxMean(dataFrame, i, printOut=True)\n",
        "\n",
        "def grouopByDataFrame(dataFrame, printOut = True):\n",
        "    '''\n",
        "    This will Print out The DataFrame by Group count, split into Columns\n",
        "    '''\n",
        "    for i in dataFrame:\n",
        "        groupByCount(df, i, printOut)\n",
        "\n",
        "def groupByCount(dataFrame, columnName =None , printOut = True):\n",
        "    '''\n",
        "    Prints out the count of a Column from a dataset  if printOut is ture\n",
        "\n",
        "    Will Return Value if printOut is False\n",
        "    '''\n",
        "    if (printOut == True):\n",
        "        print((dataFrame.groupby(by = dataFrame[columnName]).count()))\n",
        "    else:\n",
        "        return (dataFrame.groupby(by = dataFrame[columnName]).count())\n",
        "\n",
        "def printNull(dataFrame):\n",
        "    '''\n",
        "    prints the Nulls in a Data Set\n",
        "    '''\n",
        "    print(dataFrame.isnull().sum())\n",
        "\n",
        "def minMaxMean(dataFrame, columnName, printOut = False):\n",
        "    '''\n",
        "    Returns an array with [ColumnName, Min_Value, Max_Value, Mean_Value]\n",
        "    '''\n",
        "    arrayOut = []\n",
        "    arrayOut.append(columnName)\n",
        "    arrayOut.append(dataFrame[columnName].min())\n",
        "    arrayOut.append(dataFrame[columnName].max())\n",
        "    arrayOut.append(dataFrame[columnName].mean())\n",
        "    if printOut == True:\n",
        "        print(arrayOut)\n",
        "    elif printOut == False:\n",
        "        return arrayOut\n",
        "\n",
        "def sumColumn(dataFrame, columnName):\n",
        "    '''\n",
        "    This will print out the Nulls in a dataFrame, columnName, and the sums of those\n",
        "    '''\n",
        "    print(\"Is Null     :\",dataFrame[columnName].isnull().sum())\n",
        "    print(\"Is Not Null :\",dataFrame[columnName].count())\n",
        "\n",
        "def rowsColums(dataFrame):\n",
        "    '''\n",
        "    This will print out the rows and colums\n",
        "\n",
        "    Example out Put:\n",
        "    > Rows    : 10\n",
        "    > Columns : 2 \n",
        "    '''\n",
        "    print(\"Rows    : \",len(dataFrame))\n",
        "    print(\"Columns : \",len(dataFrame.columns))\n",
        "\n",
        "        \n",
        "def pams(getMe):\n",
        "    try:\n",
        "        pam = getMe.get_params(deep=False)\n",
        "        for i in pam:\n",
        "            print(i,'   :   ', pam[i])\n",
        "    except AttributeError:\n",
        "        print(\"This Object has no attribute to Paramaters\")"
      ]
    },
    {
      "cell_type": "markdown",
      "metadata": {
        "id": "LBMbwXivzt5k"
      },
      "source": [
        "#Coding Starts"
      ]
    },
    {
      "cell_type": "code",
      "execution_count": null,
      "metadata": {
        "id": "Dj_t0Yib0GrX"
      },
      "outputs": [],
      "source": [
        "path = '/content/drive/MyDrive/Boot  Camp/08 Week 8:/Kaggle/train.csv'\n",
        "test_path = '/content/drive/MyDrive/Boot  Camp/08 Week 8:/Kaggle/test.csv'\n",
        "\n",
        "df = pd.read_csv(path)\n",
        "df.head()\n",
        "\n",
        "testDF = pd.read_csv(test_path)"
      ]
    },
    {
      "cell_type": "code",
      "execution_count": null,
      "metadata": {
        "colab": {
          "base_uri": "https://localhost:8080/"
        },
        "id": "4HomkV-8fTAr",
        "outputId": "c2597557-78c0-4358-f4c0-b8a0f68a2ec3"
      },
      "outputs": [
        {
          "output_type": "execute_result",
          "data": {
            "text/plain": [
              "True"
            ]
          },
          "metadata": {},
          "execution_count": 9
        }
      ],
      "source": [
        "checkDataframeColum(path)"
      ]
    },
    {
      "cell_type": "code",
      "execution_count": null,
      "metadata": {
        "colab": {
          "base_uri": "https://localhost:8080/"
        },
        "id": "rfpeTfuZO6vq",
        "outputId": "5bd6273f-d4eb-45d9-fe58-e782c1f9c186"
      },
      "outputs": [
        {
          "output_type": "stream",
          "name": "stdout",
          "text": [
            "Id                 0\n",
            "MSSubClass         0\n",
            "MSZoning           0\n",
            "LotFrontage      259\n",
            "LotArea            0\n",
            "                ... \n",
            "MoSold             0\n",
            "YrSold             0\n",
            "SaleType           0\n",
            "SaleCondition      0\n",
            "SalePrice          0\n",
            "Length: 81, dtype: int64\n"
          ]
        }
      ],
      "source": [
        "page = df.isnull().sum()\n",
        "print(page)"
      ]
    },
    {
      "cell_type": "code",
      "execution_count": null,
      "metadata": {
        "colab": {
          "base_uri": "https://localhost:8080/"
        },
        "id": "G2TFDykY2hDK",
        "outputId": "d7cafae3-5981-44e3-edec-d8c0f75e9c31"
      },
      "outputs": [
        {
          "output_type": "stream",
          "name": "stdout",
          "text": [
            "<class 'pandas.core.frame.DataFrame'>\n",
            "RangeIndex: 1460 entries, 0 to 1459\n",
            "Data columns (total 81 columns):\n",
            " #   Column         Non-Null Count  Dtype  \n",
            "---  ------         --------------  -----  \n",
            " 0   Id             1460 non-null   int64  \n",
            " 1   MSSubClass     1460 non-null   int64  \n",
            " 2   MSZoning       1460 non-null   object \n",
            " 3   LotFrontage    1201 non-null   float64\n",
            " 4   LotArea        1460 non-null   int64  \n",
            " 5   Street         1460 non-null   object \n",
            " 6   Alley          91 non-null     object \n",
            " 7   LotShape       1460 non-null   object \n",
            " 8   LandContour    1460 non-null   object \n",
            " 9   Utilities      1460 non-null   object \n",
            " 10  LotConfig      1460 non-null   object \n",
            " 11  LandSlope      1460 non-null   object \n",
            " 12  Neighborhood   1460 non-null   object \n",
            " 13  Condition1     1460 non-null   object \n",
            " 14  Condition2     1460 non-null   object \n",
            " 15  BldgType       1460 non-null   object \n",
            " 16  HouseStyle     1460 non-null   object \n",
            " 17  OverallQual    1460 non-null   int64  \n",
            " 18  OverallCond    1460 non-null   int64  \n",
            " 19  YearBuilt      1460 non-null   int64  \n",
            " 20  YearRemodAdd   1460 non-null   int64  \n",
            " 21  RoofStyle      1460 non-null   object \n",
            " 22  RoofMatl       1460 non-null   object \n",
            " 23  Exterior1st    1460 non-null   object \n",
            " 24  Exterior2nd    1460 non-null   object \n",
            " 25  MasVnrType     1452 non-null   object \n",
            " 26  MasVnrArea     1452 non-null   float64\n",
            " 27  ExterQual      1460 non-null   object \n",
            " 28  ExterCond      1460 non-null   object \n",
            " 29  Foundation     1460 non-null   object \n",
            " 30  BsmtQual       1423 non-null   object \n",
            " 31  BsmtCond       1423 non-null   object \n",
            " 32  BsmtExposure   1422 non-null   object \n",
            " 33  BsmtFinType1   1423 non-null   object \n",
            " 34  BsmtFinSF1     1460 non-null   int64  \n",
            " 35  BsmtFinType2   1422 non-null   object \n",
            " 36  BsmtFinSF2     1460 non-null   int64  \n",
            " 37  BsmtUnfSF      1460 non-null   int64  \n",
            " 38  TotalBsmtSF    1460 non-null   int64  \n",
            " 39  Heating        1460 non-null   object \n",
            " 40  HeatingQC      1460 non-null   object \n",
            " 41  CentralAir     1460 non-null   object \n",
            " 42  Electrical     1459 non-null   object \n",
            " 43  1stFlrSF       1460 non-null   int64  \n",
            " 44  2ndFlrSF       1460 non-null   int64  \n",
            " 45  LowQualFinSF   1460 non-null   int64  \n",
            " 46  GrLivArea      1460 non-null   int64  \n",
            " 47  BsmtFullBath   1460 non-null   int64  \n",
            " 48  BsmtHalfBath   1460 non-null   int64  \n",
            " 49  FullBath       1460 non-null   int64  \n",
            " 50  HalfBath       1460 non-null   int64  \n",
            " 51  BedroomAbvGr   1460 non-null   int64  \n",
            " 52  KitchenAbvGr   1460 non-null   int64  \n",
            " 53  KitchenQual    1460 non-null   object \n",
            " 54  TotRmsAbvGrd   1460 non-null   int64  \n",
            " 55  Functional     1460 non-null   object \n",
            " 56  Fireplaces     1460 non-null   int64  \n",
            " 57  FireplaceQu    770 non-null    object \n",
            " 58  GarageType     1379 non-null   object \n",
            " 59  GarageYrBlt    1379 non-null   float64\n",
            " 60  GarageFinish   1379 non-null   object \n",
            " 61  GarageCars     1460 non-null   int64  \n",
            " 62  GarageArea     1460 non-null   int64  \n",
            " 63  GarageQual     1379 non-null   object \n",
            " 64  GarageCond     1379 non-null   object \n",
            " 65  PavedDrive     1460 non-null   object \n",
            " 66  WoodDeckSF     1460 non-null   int64  \n",
            " 67  OpenPorchSF    1460 non-null   int64  \n",
            " 68  EnclosedPorch  1460 non-null   int64  \n",
            " 69  3SsnPorch      1460 non-null   int64  \n",
            " 70  ScreenPorch    1460 non-null   int64  \n",
            " 71  PoolArea       1460 non-null   int64  \n",
            " 72  PoolQC         7 non-null      object \n",
            " 73  Fence          281 non-null    object \n",
            " 74  MiscFeature    54 non-null     object \n",
            " 75  MiscVal        1460 non-null   int64  \n",
            " 76  MoSold         1460 non-null   int64  \n",
            " 77  YrSold         1460 non-null   int64  \n",
            " 78  SaleType       1460 non-null   object \n",
            " 79  SaleCondition  1460 non-null   object \n",
            " 80  SalePrice      1460 non-null   int64  \n",
            "dtypes: float64(3), int64(35), object(43)\n",
            "memory usage: 924.0+ KB\n"
          ]
        }
      ],
      "source": [
        "df.info()"
      ]
    },
    {
      "cell_type": "code",
      "execution_count": null,
      "metadata": {
        "id": "9HgeXsXm1QvE"
      },
      "outputs": [],
      "source": [
        "##Picking out what i want to look at\n",
        "train = df[['LotArea',\n",
        "            'OverallQual',\n",
        "            'OverallCond',\n",
        "            'GrLivArea',\n",
        "            'FullBath',\n",
        "            'HalfBath',\n",
        "            'BedroomAbvGr',\n",
        "            'SalePrice'\n",
        "            ]]\n",
        "\n",
        "            "
      ]
    },
    {
      "cell_type": "code",
      "execution_count": null,
      "metadata": {
        "id": "e63TpYsQGuFX"
      },
      "outputs": [],
      "source": [
        "test = testDF[['LotArea',\n",
        "               'OverallQual',\n",
        "               'OverallCond',\n",
        "               'GrLivArea',\n",
        "               'FullBath',\n",
        "               'HalfBath',\n",
        "               'BedroomAbvGr',\n",
        "               ]]"
      ]
    },
    {
      "cell_type": "code",
      "execution_count": null,
      "metadata": {
        "colab": {
          "base_uri": "https://localhost:8080/"
        },
        "id": "Czl3OvXqQMVP",
        "outputId": "b81ace1d-dbf6-4d02-b83a-07d4bd08eb63"
      },
      "outputs": [
        {
          "output_type": "stream",
          "name": "stdout",
          "text": [
            "LotArea         0\n",
            "OverallQual     0\n",
            "OverallCond     0\n",
            "GrLivArea       0\n",
            "FullBath        0\n",
            "HalfBath        0\n",
            "BedroomAbvGr    0\n",
            "SalePrice       0\n",
            "dtype: int64\n"
          ]
        }
      ],
      "source": [
        "printNull(train)"
      ]
    },
    {
      "cell_type": "code",
      "execution_count": null,
      "metadata": {
        "colab": {
          "base_uri": "https://localhost:8080/"
        },
        "id": "3piGIY0H5xse",
        "outputId": "b77b0f89-8b38-45a7-e418-965ea3e617bd"
      },
      "outputs": [
        {
          "output_type": "stream",
          "name": "stdout",
          "text": [
            "<class 'pandas.core.frame.DataFrame'>\n",
            "RangeIndex: 1460 entries, 0 to 1459\n",
            "Data columns (total 8 columns):\n",
            " #   Column        Non-Null Count  Dtype\n",
            "---  ------        --------------  -----\n",
            " 0   LotArea       1460 non-null   int64\n",
            " 1   OverallQual   1460 non-null   int64\n",
            " 2   OverallCond   1460 non-null   int64\n",
            " 3   GrLivArea     1460 non-null   int64\n",
            " 4   FullBath      1460 non-null   int64\n",
            " 5   HalfBath      1460 non-null   int64\n",
            " 6   BedroomAbvGr  1460 non-null   int64\n",
            " 7   SalePrice     1460 non-null   int64\n",
            "dtypes: int64(8)\n",
            "memory usage: 91.4 KB\n"
          ]
        }
      ],
      "source": [
        "train.info()"
      ]
    },
    {
      "cell_type": "code",
      "execution_count": null,
      "metadata": {
        "colab": {
          "base_uri": "https://localhost:8080/"
        },
        "id": "VMn83pEtW6xV",
        "outputId": "0c9faac2-ddf1-443e-9236-da1c5e5203b0"
      },
      "outputs": [
        {
          "output_type": "stream",
          "name": "stdout",
          "text": [
            "----- Values Types -----\n",
            "<class 'pandas.core.frame.DataFrame'>\n",
            "RangeIndex: 1460 entries, 0 to 1459\n",
            "Data columns (total 8 columns):\n",
            " #   Column        Non-Null Count  Dtype\n",
            "---  ------        --------------  -----\n",
            " 0   LotArea       1460 non-null   int64\n",
            " 1   OverallQual   1460 non-null   int64\n",
            " 2   OverallCond   1460 non-null   int64\n",
            " 3   GrLivArea     1460 non-null   int64\n",
            " 4   FullBath      1460 non-null   int64\n",
            " 5   HalfBath      1460 non-null   int64\n",
            " 6   BedroomAbvGr  1460 non-null   int64\n",
            " 7   SalePrice     1460 non-null   int64\n",
            "dtypes: int64(8)\n",
            "memory usage: 91.4 KB\n",
            "\n",
            "\n",
            "\n",
            "\n",
            "----- Null Values -----\n",
            "LotArea         0\n",
            "OverallQual     0\n",
            "OverallCond     0\n",
            "GrLivArea       0\n",
            "FullBath        0\n",
            "HalfBath        0\n",
            "BedroomAbvGr    0\n",
            "SalePrice       0\n",
            "dtype: int64\n",
            "\n",
            "\n",
            "\n",
            "\n",
            "----- Group By Data -----\n",
            "         Id  MSSubClass  MSZoning  ...  SaleType  SaleCondition  SalePrice\n",
            "LotArea                            ...                                    \n",
            "1300      1           1         1  ...         1              1          1\n",
            "1477      1           1         1  ...         1              1          1\n",
            "1491      1           1         1  ...         1              1          1\n",
            "1526      1           1         1  ...         1              1          1\n",
            "1533      2           2         2  ...         2              2          2\n",
            "...      ..         ...       ...  ...       ...            ...        ...\n",
            "70761     1           1         1  ...         1              1          1\n",
            "115149    1           1         1  ...         1              1          1\n",
            "159000    1           1         1  ...         1              1          1\n",
            "164660    1           1         1  ...         1              1          1\n",
            "215245    1           1         1  ...         1              1          1\n",
            "\n",
            "[1073 rows x 80 columns]\n",
            "              Id  MSSubClass  MSZoning  ...  SaleType  SaleCondition  SalePrice\n",
            "OverallQual                             ...                                    \n",
            "1              2           2         2  ...         2              2          2\n",
            "2              3           3         3  ...         3              3          3\n",
            "3             20          20        20  ...        20             20         20\n",
            "4            116         116       116  ...       116            116        116\n",
            "5            397         397       397  ...       397            397        397\n",
            "6            374         374       374  ...       374            374        374\n",
            "7            319         319       319  ...       319            319        319\n",
            "8            168         168       168  ...       168            168        168\n",
            "9             43          43        43  ...        43             43         43\n",
            "10            18          18        18  ...        18             18         18\n",
            "\n",
            "[10 rows x 80 columns]\n",
            "              Id  MSSubClass  MSZoning  ...  SaleType  SaleCondition  SalePrice\n",
            "OverallCond                             ...                                    \n",
            "1              1           1         1  ...         1              1          1\n",
            "2              5           5         5  ...         5              5          5\n",
            "3             25          25        25  ...        25             25         25\n",
            "4             57          57        57  ...        57             57         57\n",
            "5            821         821       821  ...       821            821        821\n",
            "6            252         252       252  ...       252            252        252\n",
            "7            205         205       205  ...       205            205        205\n",
            "8             72          72        72  ...        72             72         72\n",
            "9             22          22        22  ...        22             22         22\n",
            "\n",
            "[9 rows x 80 columns]\n",
            "           Id  MSSubClass  MSZoning  ...  SaleType  SaleCondition  SalePrice\n",
            "GrLivArea                            ...                                    \n",
            "334         1           1         1  ...         1              1          1\n",
            "438         1           1         1  ...         1              1          1\n",
            "480         1           1         1  ...         1              1          1\n",
            "520         1           1         1  ...         1              1          1\n",
            "605         1           1         1  ...         1              1          1\n",
            "...        ..         ...       ...  ...       ...            ...        ...\n",
            "3627        1           1         1  ...         1              1          1\n",
            "4316        1           1         1  ...         1              1          1\n",
            "4476        1           1         1  ...         1              1          1\n",
            "4676        1           1         1  ...         1              1          1\n",
            "5642        1           1         1  ...         1              1          1\n",
            "\n",
            "[861 rows x 80 columns]\n",
            "           Id  MSSubClass  MSZoning  ...  SaleType  SaleCondition  SalePrice\n",
            "FullBath                             ...                                    \n",
            "0           9           9         9  ...         9              9          9\n",
            "1         650         650       650  ...       650            650        650\n",
            "2         768         768       768  ...       768            768        768\n",
            "3          33          33        33  ...        33             33         33\n",
            "\n",
            "[4 rows x 80 columns]\n",
            "           Id  MSSubClass  MSZoning  ...  SaleType  SaleCondition  SalePrice\n",
            "HalfBath                             ...                                    \n",
            "0         913         913       913  ...       913            913        913\n",
            "1         535         535       535  ...       535            535        535\n",
            "2          12          12        12  ...        12             12         12\n",
            "\n",
            "[3 rows x 80 columns]\n",
            "               Id  MSSubClass  MSZoning  ...  SaleType  SaleCondition  SalePrice\n",
            "BedroomAbvGr                             ...                                    \n",
            "0               6           6         6  ...         6              6          6\n",
            "1              50          50        50  ...        50             50         50\n",
            "2             358         358       358  ...       358            358        358\n",
            "3             804         804       804  ...       804            804        804\n",
            "4             213         213       213  ...       213            213        213\n",
            "5              21          21        21  ...        21             21         21\n",
            "6               7           7         7  ...         7              7          7\n",
            "8               1           1         1  ...         1              1          1\n",
            "\n",
            "[8 rows x 80 columns]\n",
            "           Id  MSSubClass  MSZoning  ...  YrSold  SaleType  SaleCondition\n",
            "SalePrice                            ...                                 \n",
            "34900       1           1         1  ...       1         1              1\n",
            "35311       1           1         1  ...       1         1              1\n",
            "37900       1           1         1  ...       1         1              1\n",
            "39300       1           1         1  ...       1         1              1\n",
            "40000       1           1         1  ...       1         1              1\n",
            "...        ..         ...       ...  ...     ...       ...            ...\n",
            "582933      1           1         1  ...       1         1              1\n",
            "611657      1           1         1  ...       1         1              1\n",
            "625000      1           1         1  ...       1         1              1\n",
            "745000      1           1         1  ...       1         1              1\n",
            "755000      1           1         1  ...       1         1              1\n",
            "\n",
            "[663 rows x 80 columns]\n",
            "\n",
            "\n",
            "\n",
            "\n",
            "----- Min Max, and Mean -----\n",
            "['LotArea', 1300, 215245, 10516.828082191782]\n",
            "['OverallQual', 1, 10, 6.0993150684931505]\n",
            "['OverallCond', 1, 9, 5.575342465753424]\n",
            "['GrLivArea', 334, 5642, 1515.463698630137]\n",
            "['FullBath', 0, 3, 1.5650684931506849]\n",
            "['HalfBath', 0, 2, 0.38287671232876713]\n",
            "['BedroomAbvGr', 0, 8, 2.8664383561643834]\n",
            "['SalePrice', 34900, 755000, 180921.19589041095]\n"
          ]
        }
      ],
      "source": [
        "startUpDatacleaning(train)"
      ]
    },
    {
      "cell_type": "code",
      "execution_count": null,
      "metadata": {
        "id": "P6YISgi25H9a"
      },
      "outputs": [],
      "source": [
        "X= train.drop(columns = 'SalePrice')\n",
        "y= train['SalePrice']\n",
        "\n",
        "X_train, X_test, y_train, y_test = train_test_split(X, y, random_state=42)"
      ]
    },
    {
      "cell_type": "markdown",
      "metadata": {
        "id": "gDeUgj28164u"
      },
      "source": [
        "#classifier"
      ]
    },
    {
      "cell_type": "code",
      "execution_count": null,
      "metadata": {
        "id": "kANJwfem5m2y"
      },
      "outputs": [],
      "source": [
        "scale = StandardScaler()\n",
        "ohe = OneHotEncoder(sparse=False,\n",
        "                    handle_unknown='ignore')\n",
        "\n",
        "num_select = make_column_selector(dtype_include = 'number')\n",
        "cat_select = make_column_selector(dtype_include = 'object')\n",
        "\n",
        "num_tuple  = (scale, num_select)\n",
        "cat_tuple  = (ohe, cat_select)\n",
        "\n",
        "col_trans = make_column_transformer(num_tuple,\n",
        "                                    cat_tuple,\n",
        "                                    remainder = 'passthrough')"
      ]
    },
    {
      "cell_type": "markdown",
      "metadata": {
        "id": "Q3dSF-g-yQKq"
      },
      "source": [
        "##LinearRegression"
      ]
    },
    {
      "cell_type": "code",
      "execution_count": null,
      "metadata": {
        "id": "1MOSDgDfB3WF"
      },
      "outputs": [],
      "source": [
        "LR = LinearRegression()"
      ]
    },
    {
      "cell_type": "code",
      "execution_count": null,
      "metadata": {
        "colab": {
          "base_uri": "https://localhost:8080/"
        },
        "id": "Zfmcm9JQB3WG",
        "outputId": "a3ae48c7-0ae3-42c8-9a4c-9fe72dde8de2"
      },
      "outputs": [
        {
          "output_type": "stream",
          "name": "stdout",
          "text": [
            "copy_X    :    True\n",
            "fit_intercept    :    True\n",
            "n_jobs    :    None\n",
            "normalize    :    deprecated\n",
            "positive    :    False\n"
          ]
        }
      ],
      "source": [
        "pams(LR)"
      ]
    },
    {
      "cell_type": "code",
      "execution_count": null,
      "metadata": {
        "id": "ZR6m-_N_B3WH"
      },
      "outputs": [],
      "source": [
        "LR_pipe = make_pipeline(col_trans,LR)"
      ]
    },
    {
      "cell_type": "code",
      "execution_count": null,
      "metadata": {
        "colab": {
          "base_uri": "https://localhost:8080/",
          "height": 228
        },
        "id": "GwImBnCQB3WI",
        "outputId": "669ea4f4-f93f-4b36-994b-9ebd3ae31e86"
      },
      "outputs": [
        {
          "output_type": "stream",
          "name": "stdout",
          "text": [
            "CPU times: user 12 ms, sys: 997 µs, total: 13 ms\n",
            "Wall time: 19.7 ms\n"
          ]
        },
        {
          "output_type": "execute_result",
          "data": {
            "text/html": [
              "<style>#sk-38d67694-e2d5-4b5c-8297-c47acc92dd8f {color: black;background-color: white;}#sk-38d67694-e2d5-4b5c-8297-c47acc92dd8f pre{padding: 0;}#sk-38d67694-e2d5-4b5c-8297-c47acc92dd8f div.sk-toggleable {background-color: white;}#sk-38d67694-e2d5-4b5c-8297-c47acc92dd8f label.sk-toggleable__label {cursor: pointer;display: block;width: 100%;margin-bottom: 0;padding: 0.3em;box-sizing: border-box;text-align: center;}#sk-38d67694-e2d5-4b5c-8297-c47acc92dd8f label.sk-toggleable__label-arrow:before {content: \"▸\";float: left;margin-right: 0.25em;color: #696969;}#sk-38d67694-e2d5-4b5c-8297-c47acc92dd8f label.sk-toggleable__label-arrow:hover:before {color: black;}#sk-38d67694-e2d5-4b5c-8297-c47acc92dd8f div.sk-estimator:hover label.sk-toggleable__label-arrow:before {color: black;}#sk-38d67694-e2d5-4b5c-8297-c47acc92dd8f div.sk-toggleable__content {max-height: 0;max-width: 0;overflow: hidden;text-align: left;background-color: #f0f8ff;}#sk-38d67694-e2d5-4b5c-8297-c47acc92dd8f div.sk-toggleable__content pre {margin: 0.2em;color: black;border-radius: 0.25em;background-color: #f0f8ff;}#sk-38d67694-e2d5-4b5c-8297-c47acc92dd8f input.sk-toggleable__control:checked~div.sk-toggleable__content {max-height: 200px;max-width: 100%;overflow: auto;}#sk-38d67694-e2d5-4b5c-8297-c47acc92dd8f input.sk-toggleable__control:checked~label.sk-toggleable__label-arrow:before {content: \"▾\";}#sk-38d67694-e2d5-4b5c-8297-c47acc92dd8f div.sk-estimator input.sk-toggleable__control:checked~label.sk-toggleable__label {background-color: #d4ebff;}#sk-38d67694-e2d5-4b5c-8297-c47acc92dd8f div.sk-label input.sk-toggleable__control:checked~label.sk-toggleable__label {background-color: #d4ebff;}#sk-38d67694-e2d5-4b5c-8297-c47acc92dd8f input.sk-hidden--visually {border: 0;clip: rect(1px 1px 1px 1px);clip: rect(1px, 1px, 1px, 1px);height: 1px;margin: -1px;overflow: hidden;padding: 0;position: absolute;width: 1px;}#sk-38d67694-e2d5-4b5c-8297-c47acc92dd8f div.sk-estimator {font-family: monospace;background-color: #f0f8ff;border: 1px dotted black;border-radius: 0.25em;box-sizing: border-box;margin-bottom: 0.5em;}#sk-38d67694-e2d5-4b5c-8297-c47acc92dd8f div.sk-estimator:hover {background-color: #d4ebff;}#sk-38d67694-e2d5-4b5c-8297-c47acc92dd8f div.sk-parallel-item::after {content: \"\";width: 100%;border-bottom: 1px solid gray;flex-grow: 1;}#sk-38d67694-e2d5-4b5c-8297-c47acc92dd8f div.sk-label:hover label.sk-toggleable__label {background-color: #d4ebff;}#sk-38d67694-e2d5-4b5c-8297-c47acc92dd8f div.sk-serial::before {content: \"\";position: absolute;border-left: 1px solid gray;box-sizing: border-box;top: 2em;bottom: 0;left: 50%;}#sk-38d67694-e2d5-4b5c-8297-c47acc92dd8f div.sk-serial {display: flex;flex-direction: column;align-items: center;background-color: white;padding-right: 0.2em;padding-left: 0.2em;}#sk-38d67694-e2d5-4b5c-8297-c47acc92dd8f div.sk-item {z-index: 1;}#sk-38d67694-e2d5-4b5c-8297-c47acc92dd8f div.sk-parallel {display: flex;align-items: stretch;justify-content: center;background-color: white;}#sk-38d67694-e2d5-4b5c-8297-c47acc92dd8f div.sk-parallel::before {content: \"\";position: absolute;border-left: 1px solid gray;box-sizing: border-box;top: 2em;bottom: 0;left: 50%;}#sk-38d67694-e2d5-4b5c-8297-c47acc92dd8f div.sk-parallel-item {display: flex;flex-direction: column;position: relative;background-color: white;}#sk-38d67694-e2d5-4b5c-8297-c47acc92dd8f div.sk-parallel-item:first-child::after {align-self: flex-end;width: 50%;}#sk-38d67694-e2d5-4b5c-8297-c47acc92dd8f div.sk-parallel-item:last-child::after {align-self: flex-start;width: 50%;}#sk-38d67694-e2d5-4b5c-8297-c47acc92dd8f div.sk-parallel-item:only-child::after {width: 0;}#sk-38d67694-e2d5-4b5c-8297-c47acc92dd8f div.sk-dashed-wrapped {border: 1px dashed gray;margin: 0 0.4em 0.5em 0.4em;box-sizing: border-box;padding-bottom: 0.4em;background-color: white;position: relative;}#sk-38d67694-e2d5-4b5c-8297-c47acc92dd8f div.sk-label label {font-family: monospace;font-weight: bold;background-color: white;display: inline-block;line-height: 1.2em;}#sk-38d67694-e2d5-4b5c-8297-c47acc92dd8f div.sk-label-container {position: relative;z-index: 2;text-align: center;}#sk-38d67694-e2d5-4b5c-8297-c47acc92dd8f div.sk-container {/* jupyter's `normalize.less` sets `[hidden] { display: none; }` but bootstrap.min.css set `[hidden] { display: none !important; }` so we also need the `!important` here to be able to override the default hidden behavior on the sphinx rendered scikit-learn.org. See: https://github.com/scikit-learn/scikit-learn/issues/21755 */display: inline-block !important;position: relative;}#sk-38d67694-e2d5-4b5c-8297-c47acc92dd8f div.sk-text-repr-fallback {display: none;}</style><div id=\"sk-38d67694-e2d5-4b5c-8297-c47acc92dd8f\" class=\"sk-top-container\"><div class=\"sk-text-repr-fallback\"><pre>Pipeline(steps=[(&#x27;columntransformer&#x27;,\n",
              "                 ColumnTransformer(remainder=&#x27;passthrough&#x27;,\n",
              "                                   transformers=[(&#x27;standardscaler&#x27;,\n",
              "                                                  StandardScaler(),\n",
              "                                                  &lt;sklearn.compose._column_transformer.make_column_selector object at 0x7f447e17e2d0&gt;),\n",
              "                                                 (&#x27;onehotencoder&#x27;,\n",
              "                                                  OneHotEncoder(handle_unknown=&#x27;ignore&#x27;,\n",
              "                                                                sparse=False),\n",
              "                                                  &lt;sklearn.compose._column_transformer.make_column_selector object at 0x7f447e17edd0&gt;)])),\n",
              "                (&#x27;linearregression&#x27;, LinearRegression())])</pre><b>Please rerun this cell to show the HTML repr or trust the notebook.</b></div><div class=\"sk-container\" hidden><div class=\"sk-item sk-dashed-wrapped\"><div class=\"sk-label-container\"><div class=\"sk-label sk-toggleable\"><input class=\"sk-toggleable__control sk-hidden--visually\" id=\"e067e5f8-45d3-4a43-876e-f6ccc34b8e79\" type=\"checkbox\" ><label for=\"e067e5f8-45d3-4a43-876e-f6ccc34b8e79\" class=\"sk-toggleable__label sk-toggleable__label-arrow\">Pipeline</label><div class=\"sk-toggleable__content\"><pre>Pipeline(steps=[(&#x27;columntransformer&#x27;,\n",
              "                 ColumnTransformer(remainder=&#x27;passthrough&#x27;,\n",
              "                                   transformers=[(&#x27;standardscaler&#x27;,\n",
              "                                                  StandardScaler(),\n",
              "                                                  &lt;sklearn.compose._column_transformer.make_column_selector object at 0x7f447e17e2d0&gt;),\n",
              "                                                 (&#x27;onehotencoder&#x27;,\n",
              "                                                  OneHotEncoder(handle_unknown=&#x27;ignore&#x27;,\n",
              "                                                                sparse=False),\n",
              "                                                  &lt;sklearn.compose._column_transformer.make_column_selector object at 0x7f447e17edd0&gt;)])),\n",
              "                (&#x27;linearregression&#x27;, LinearRegression())])</pre></div></div></div><div class=\"sk-serial\"><div class=\"sk-item sk-dashed-wrapped\"><div class=\"sk-label-container\"><div class=\"sk-label sk-toggleable\"><input class=\"sk-toggleable__control sk-hidden--visually\" id=\"5308acca-5e55-4f02-bd39-616f9d68b5ac\" type=\"checkbox\" ><label for=\"5308acca-5e55-4f02-bd39-616f9d68b5ac\" class=\"sk-toggleable__label sk-toggleable__label-arrow\">columntransformer: ColumnTransformer</label><div class=\"sk-toggleable__content\"><pre>ColumnTransformer(remainder=&#x27;passthrough&#x27;,\n",
              "                  transformers=[(&#x27;standardscaler&#x27;, StandardScaler(),\n",
              "                                 &lt;sklearn.compose._column_transformer.make_column_selector object at 0x7f447e17e2d0&gt;),\n",
              "                                (&#x27;onehotencoder&#x27;,\n",
              "                                 OneHotEncoder(handle_unknown=&#x27;ignore&#x27;,\n",
              "                                               sparse=False),\n",
              "                                 &lt;sklearn.compose._column_transformer.make_column_selector object at 0x7f447e17edd0&gt;)])</pre></div></div></div><div class=\"sk-parallel\"><div class=\"sk-parallel-item\"><div class=\"sk-item\"><div class=\"sk-label-container\"><div class=\"sk-label sk-toggleable\"><input class=\"sk-toggleable__control sk-hidden--visually\" id=\"4e1acc29-0fd5-47b2-9702-e42a1ae555a4\" type=\"checkbox\" ><label for=\"4e1acc29-0fd5-47b2-9702-e42a1ae555a4\" class=\"sk-toggleable__label sk-toggleable__label-arrow\">standardscaler</label><div class=\"sk-toggleable__content\"><pre>&lt;sklearn.compose._column_transformer.make_column_selector object at 0x7f447e17e2d0&gt;</pre></div></div></div><div class=\"sk-serial\"><div class=\"sk-item\"><div class=\"sk-estimator sk-toggleable\"><input class=\"sk-toggleable__control sk-hidden--visually\" id=\"01ea11e2-fe82-4f14-94bb-d7dcea97b148\" type=\"checkbox\" ><label for=\"01ea11e2-fe82-4f14-94bb-d7dcea97b148\" class=\"sk-toggleable__label sk-toggleable__label-arrow\">StandardScaler</label><div class=\"sk-toggleable__content\"><pre>StandardScaler()</pre></div></div></div></div></div></div><div class=\"sk-parallel-item\"><div class=\"sk-item\"><div class=\"sk-label-container\"><div class=\"sk-label sk-toggleable\"><input class=\"sk-toggleable__control sk-hidden--visually\" id=\"b61729ec-ccd6-4f9a-bf14-af02f633b1e7\" type=\"checkbox\" ><label for=\"b61729ec-ccd6-4f9a-bf14-af02f633b1e7\" class=\"sk-toggleable__label sk-toggleable__label-arrow\">onehotencoder</label><div class=\"sk-toggleable__content\"><pre>&lt;sklearn.compose._column_transformer.make_column_selector object at 0x7f447e17edd0&gt;</pre></div></div></div><div class=\"sk-serial\"><div class=\"sk-item\"><div class=\"sk-estimator sk-toggleable\"><input class=\"sk-toggleable__control sk-hidden--visually\" id=\"57485588-e846-4bf2-bc1a-28282c30cfad\" type=\"checkbox\" ><label for=\"57485588-e846-4bf2-bc1a-28282c30cfad\" class=\"sk-toggleable__label sk-toggleable__label-arrow\">OneHotEncoder</label><div class=\"sk-toggleable__content\"><pre>OneHotEncoder(handle_unknown=&#x27;ignore&#x27;, sparse=False)</pre></div></div></div></div></div></div><div class=\"sk-parallel-item\"><div class=\"sk-item\"><div class=\"sk-label-container\"><div class=\"sk-label sk-toggleable\"><input class=\"sk-toggleable__control sk-hidden--visually\" id=\"4b8d6a7e-08ca-4e48-9b2c-9dd89dca0cdd\" type=\"checkbox\" ><label for=\"4b8d6a7e-08ca-4e48-9b2c-9dd89dca0cdd\" class=\"sk-toggleable__label sk-toggleable__label-arrow\">remainder</label><div class=\"sk-toggleable__content\"><pre>[]</pre></div></div></div><div class=\"sk-serial\"><div class=\"sk-item\"><div class=\"sk-estimator sk-toggleable\"><input class=\"sk-toggleable__control sk-hidden--visually\" id=\"c327a011-36ad-4024-898d-44cddb276057\" type=\"checkbox\" ><label for=\"c327a011-36ad-4024-898d-44cddb276057\" class=\"sk-toggleable__label sk-toggleable__label-arrow\">passthrough</label><div class=\"sk-toggleable__content\"><pre>passthrough</pre></div></div></div></div></div></div></div></div><div class=\"sk-item\"><div class=\"sk-estimator sk-toggleable\"><input class=\"sk-toggleable__control sk-hidden--visually\" id=\"92531a03-ec46-4c01-8a4f-ed7f519f8c96\" type=\"checkbox\" ><label for=\"92531a03-ec46-4c01-8a4f-ed7f519f8c96\" class=\"sk-toggleable__label sk-toggleable__label-arrow\">LinearRegression</label><div class=\"sk-toggleable__content\"><pre>LinearRegression()</pre></div></div></div></div></div></div></div>"
            ],
            "text/plain": [
              "Pipeline(steps=[('columntransformer',\n",
              "                 ColumnTransformer(remainder='passthrough',\n",
              "                                   transformers=[('standardscaler',\n",
              "                                                  StandardScaler(),\n",
              "                                                  <sklearn.compose._column_transformer.make_column_selector object at 0x7f447e17e2d0>),\n",
              "                                                 ('onehotencoder',\n",
              "                                                  OneHotEncoder(handle_unknown='ignore',\n",
              "                                                                sparse=False),\n",
              "                                                  <sklearn.compose._column_transformer.make_column_selector object at 0x7f447e17edd0>)])),\n",
              "                ('linearregression', LinearRegression())])"
            ]
          },
          "metadata": {},
          "execution_count": 22
        }
      ],
      "source": [
        "%%time\n",
        "LR_pipe.fit(X_train, y_train)"
      ]
    },
    {
      "cell_type": "code",
      "execution_count": null,
      "metadata": {
        "colab": {
          "base_uri": "https://localhost:8080/"
        },
        "id": "udSc2UFAB3WI",
        "outputId": "3758432d-20dd-490e-a338-f2957d1644a0"
      },
      "outputs": [
        {
          "output_type": "stream",
          "name": "stdout",
          "text": [
            "Training accuracy: 0.7234687492268645\n",
            "Testing accuracy: 0.7684610165350955\n"
          ]
        }
      ],
      "source": [
        "print('Training accuracy:', LR_pipe.score(X_train, y_train))\n",
        "print('Testing accuracy:', LR_pipe.score(X_test, y_test))"
      ]
    },
    {
      "cell_type": "markdown",
      "source": [
        "###Deep learning"
      ],
      "metadata": {
        "id": "MeJscu5E5_rn"
      }
    },
    {
      "cell_type": "code",
      "source": [
        "scaler = StandardScaler()\n",
        "\n",
        "X_train = scaler.fit_transform(X_train)\n",
        "X_test = scaler.transform(X_test)"
      ],
      "metadata": {
        "id": "uCNBjPOJ--9z"
      },
      "execution_count": null,
      "outputs": []
    },
    {
      "cell_type": "code",
      "source": [
        "input_shape = X_train.shape[1]\n",
        "input_shape"
      ],
      "metadata": {
        "colab": {
          "base_uri": "https://localhost:8080/"
        },
        "id": "bw4oW74w59vd",
        "outputId": "18fed19d-c262-44c5-89e8-bf5c2864b0a3"
      },
      "execution_count": null,
      "outputs": [
        {
          "output_type": "execute_result",
          "data": {
            "text/plain": [
              "7"
            ]
          },
          "metadata": {},
          "execution_count": 25
        }
      ]
    },
    {
      "cell_type": "code",
      "source": [
        "model = Sequential()"
      ],
      "metadata": {
        "id": "gPj2P-uk5_IF"
      },
      "execution_count": null,
      "outputs": []
    },
    {
      "cell_type": "code",
      "source": [
        "model.add(Dense(100,\n",
        "                input_dim = input_shape, \n",
        "                activation = 'relu'))\n",
        "\n",
        "model.add(Dense(100,\n",
        "                activation = 'relu'))\n",
        "\n",
        "model.add(Dense(100,\n",
        "                activation = 'relu'))\n",
        "\n",
        "model.add(Dense(1, activation = 'relu'))\n",
        "\n"
      ],
      "metadata": {
        "id": "51Tt4m9w6IcN"
      },
      "execution_count": null,
      "outputs": []
    },
    {
      "cell_type": "code",
      "source": [
        "model.compile(loss = 'mse', optimizer = 'adam', metrics=['mae'])"
      ],
      "metadata": {
        "id": "NfWpTaJoAHH5"
      },
      "execution_count": null,
      "outputs": []
    },
    {
      "cell_type": "code",
      "source": [
        "history = model.fit(X_train, y_train,\n",
        "                    validation_data = (X_test, y_test), \n",
        "                    epochs=100)"
      ],
      "metadata": {
        "colab": {
          "base_uri": "https://localhost:8080/"
        },
        "id": "sfHD8fYz_rCz",
        "outputId": "85f88b32-7fe4-4d67-f06a-09639f2fc21d"
      },
      "execution_count": null,
      "outputs": [
        {
          "output_type": "stream",
          "name": "stdout",
          "text": [
            "Epoch 1/100\n",
            "35/35 [==============================] - 1s 9ms/step - loss: 39088877568.0000 - mae: 181707.3750 - val_loss: 38877782016.0000 - val_mae: 178529.6719\n",
            "Epoch 2/100\n",
            "35/35 [==============================] - 0s 4ms/step - loss: 39059701760.0000 - mae: 181634.7812 - val_loss: 38804611072.0000 - val_mae: 178341.9219\n",
            "Epoch 3/100\n",
            "35/35 [==============================] - 0s 4ms/step - loss: 38869352448.0000 - mae: 181165.2188 - val_loss: 38422192128.0000 - val_mae: 177385.2656\n",
            "Epoch 4/100\n",
            "35/35 [==============================] - 0s 4ms/step - loss: 38138519552.0000 - mae: 179372.1719 - val_loss: 37171146752.0000 - val_mae: 174289.5000\n",
            "Epoch 5/100\n",
            "35/35 [==============================] - 0s 4ms/step - loss: 36121092096.0000 - mae: 174406.7344 - val_loss: 34183301120.0000 - val_mae: 166767.0781\n",
            "Epoch 6/100\n",
            "35/35 [==============================] - 0s 4ms/step - loss: 31881361408.0000 - mae: 163593.1875 - val_loss: 28552880128.0000 - val_mae: 151651.2344\n",
            "Epoch 7/100\n",
            "35/35 [==============================] - 0s 3ms/step - loss: 24865490944.0000 - mae: 143498.2188 - val_loss: 20271425536.0000 - val_mae: 126107.8828\n",
            "Epoch 8/100\n",
            "35/35 [==============================] - 0s 3ms/step - loss: 16137001984.0000 - mae: 113704.7812 - val_loss: 11641723904.0000 - val_mae: 92191.3828\n",
            "Epoch 9/100\n",
            "35/35 [==============================] - 0s 4ms/step - loss: 8878684160.0000 - mae: 80459.7344 - val_loss: 6054069760.0000 - val_mae: 62270.7734\n",
            "Epoch 10/100\n",
            "35/35 [==============================] - 0s 4ms/step - loss: 5365343232.0000 - mae: 57073.1797 - val_loss: 4162599424.0000 - val_mae: 50480.8711\n",
            "Epoch 11/100\n",
            "35/35 [==============================] - 0s 3ms/step - loss: 4239548928.0000 - mae: 48939.0000 - val_loss: 3596138752.0000 - val_mae: 46714.9023\n",
            "Epoch 12/100\n",
            "35/35 [==============================] - 0s 4ms/step - loss: 3715718912.0000 - mae: 45266.6953 - val_loss: 3258085120.0000 - val_mae: 44409.1797\n",
            "Epoch 13/100\n",
            "35/35 [==============================] - 0s 4ms/step - loss: 3367010560.0000 - mae: 42464.2539 - val_loss: 3002190592.0000 - val_mae: 42549.6211\n",
            "Epoch 14/100\n",
            "35/35 [==============================] - 0s 4ms/step - loss: 3090281728.0000 - mae: 40373.1992 - val_loss: 2815419136.0000 - val_mae: 41036.8203\n",
            "Epoch 15/100\n",
            "35/35 [==============================] - 0s 3ms/step - loss: 2863979264.0000 - mae: 38717.6445 - val_loss: 2622425088.0000 - val_mae: 39561.2734\n",
            "Epoch 16/100\n",
            "35/35 [==============================] - 0s 4ms/step - loss: 2684585728.0000 - mae: 37460.7773 - val_loss: 2477903360.0000 - val_mae: 38342.5195\n",
            "Epoch 17/100\n",
            "35/35 [==============================] - 0s 4ms/step - loss: 2530704128.0000 - mae: 36175.9219 - val_loss: 2343321088.0000 - val_mae: 37211.4102\n",
            "Epoch 18/100\n",
            "35/35 [==============================] - 0s 3ms/step - loss: 2399072768.0000 - mae: 35090.0703 - val_loss: 2266914048.0000 - val_mae: 36336.3633\n",
            "Epoch 19/100\n",
            "35/35 [==============================] - 0s 4ms/step - loss: 2313061632.0000 - mae: 34495.8789 - val_loss: 2171459328.0000 - val_mae: 35502.7305\n",
            "Epoch 20/100\n",
            "35/35 [==============================] - 0s 4ms/step - loss: 2196105984.0000 - mae: 33495.0781 - val_loss: 2082095360.0000 - val_mae: 34588.4375\n",
            "Epoch 21/100\n",
            "35/35 [==============================] - 0s 4ms/step - loss: 2125311744.0000 - mae: 32639.5586 - val_loss: 1995798656.0000 - val_mae: 33830.5117\n",
            "Epoch 22/100\n",
            "35/35 [==============================] - 0s 5ms/step - loss: 2052913792.0000 - mae: 32263.8867 - val_loss: 1964672896.0000 - val_mae: 33404.8789\n",
            "Epoch 23/100\n",
            "35/35 [==============================] - 0s 4ms/step - loss: 1988564352.0000 - mae: 31616.2891 - val_loss: 1905963776.0000 - val_mae: 32799.3711\n",
            "Epoch 24/100\n",
            "35/35 [==============================] - 0s 3ms/step - loss: 1941693568.0000 - mae: 30975.0430 - val_loss: 1865411456.0000 - val_mae: 32352.7285\n",
            "Epoch 25/100\n",
            "35/35 [==============================] - 0s 3ms/step - loss: 1888591872.0000 - mae: 30523.4980 - val_loss: 1820003072.0000 - val_mae: 31835.7402\n",
            "Epoch 26/100\n",
            "35/35 [==============================] - 0s 3ms/step - loss: 1857441152.0000 - mae: 30194.0566 - val_loss: 1789426304.0000 - val_mae: 31402.6074\n",
            "Epoch 27/100\n",
            "35/35 [==============================] - 0s 4ms/step - loss: 1822740864.0000 - mae: 29700.0645 - val_loss: 1747939968.0000 - val_mae: 30923.5508\n",
            "Epoch 28/100\n",
            "35/35 [==============================] - 0s 4ms/step - loss: 1776935424.0000 - mae: 29432.3477 - val_loss: 1732011776.0000 - val_mae: 30649.5098\n",
            "Epoch 29/100\n",
            "35/35 [==============================] - 0s 3ms/step - loss: 1761692800.0000 - mae: 29123.6348 - val_loss: 1697866112.0000 - val_mae: 30301.3066\n",
            "Epoch 30/100\n",
            "35/35 [==============================] - 0s 3ms/step - loss: 1728930816.0000 - mae: 28929.6875 - val_loss: 1702880640.0000 - val_mae: 30163.1973\n",
            "Epoch 31/100\n",
            "35/35 [==============================] - 0s 4ms/step - loss: 1704912128.0000 - mae: 28656.6445 - val_loss: 1660636800.0000 - val_mae: 29689.8438\n",
            "Epoch 32/100\n",
            "35/35 [==============================] - 0s 3ms/step - loss: 1690241280.0000 - mae: 28418.7695 - val_loss: 1651352064.0000 - val_mae: 29506.6719\n",
            "Epoch 33/100\n",
            "35/35 [==============================] - 0s 4ms/step - loss: 1674693888.0000 - mae: 28217.5352 - val_loss: 1628136192.0000 - val_mae: 29222.9707\n",
            "Epoch 34/100\n",
            "35/35 [==============================] - 0s 3ms/step - loss: 1659778560.0000 - mae: 28105.1035 - val_loss: 1622933120.0000 - val_mae: 29049.9668\n",
            "Epoch 35/100\n",
            "35/35 [==============================] - 0s 3ms/step - loss: 1648710528.0000 - mae: 27918.2383 - val_loss: 1611360896.0000 - val_mae: 28851.0117\n",
            "Epoch 36/100\n",
            "35/35 [==============================] - 0s 3ms/step - loss: 1644745856.0000 - mae: 27790.9844 - val_loss: 1594832000.0000 - val_mae: 28635.4746\n",
            "Epoch 37/100\n",
            "35/35 [==============================] - 0s 4ms/step - loss: 1630850432.0000 - mae: 27618.9219 - val_loss: 1581694976.0000 - val_mae: 28472.4062\n",
            "Epoch 38/100\n",
            "35/35 [==============================] - 0s 3ms/step - loss: 1625409280.0000 - mae: 27600.1504 - val_loss: 1593423872.0000 - val_mae: 28403.6328\n",
            "Epoch 39/100\n",
            "35/35 [==============================] - 0s 3ms/step - loss: 1612108416.0000 - mae: 27422.2617 - val_loss: 1554052608.0000 - val_mae: 28151.8828\n",
            "Epoch 40/100\n",
            "35/35 [==============================] - 0s 3ms/step - loss: 1602012032.0000 - mae: 27328.8867 - val_loss: 1580235776.0000 - val_mae: 28184.3262\n",
            "Epoch 41/100\n",
            "35/35 [==============================] - 0s 4ms/step - loss: 1594976896.0000 - mae: 27300.1309 - val_loss: 1561825280.0000 - val_mae: 28005.2598\n",
            "Epoch 42/100\n",
            "35/35 [==============================] - 0s 3ms/step - loss: 1588990464.0000 - mae: 27150.0547 - val_loss: 1549354368.0000 - val_mae: 27832.5566\n",
            "Epoch 43/100\n",
            "35/35 [==============================] - 0s 3ms/step - loss: 1586021888.0000 - mae: 27049.2480 - val_loss: 1538926208.0000 - val_mae: 27681.0762\n",
            "Epoch 44/100\n",
            "35/35 [==============================] - 0s 3ms/step - loss: 1579099648.0000 - mae: 26985.9512 - val_loss: 1556477440.0000 - val_mae: 27694.0977\n",
            "Epoch 45/100\n",
            "35/35 [==============================] - 0s 3ms/step - loss: 1561891200.0000 - mae: 26862.9062 - val_loss: 1529347328.0000 - val_mae: 27471.4902\n",
            "Epoch 46/100\n",
            "35/35 [==============================] - 0s 4ms/step - loss: 1564134528.0000 - mae: 26822.3027 - val_loss: 1523004800.0000 - val_mae: 27437.2539\n",
            "Epoch 47/100\n",
            "35/35 [==============================] - 0s 4ms/step - loss: 1555460608.0000 - mae: 26724.7812 - val_loss: 1527459456.0000 - val_mae: 27355.0527\n",
            "Epoch 48/100\n",
            "35/35 [==============================] - 0s 3ms/step - loss: 1556781184.0000 - mae: 26689.8574 - val_loss: 1499666176.0000 - val_mae: 27158.4023\n",
            "Epoch 49/100\n",
            "35/35 [==============================] - 0s 3ms/step - loss: 1560856960.0000 - mae: 26740.8281 - val_loss: 1517584512.0000 - val_mae: 27184.0762\n",
            "Epoch 50/100\n",
            "35/35 [==============================] - 0s 4ms/step - loss: 1541053952.0000 - mae: 26523.9824 - val_loss: 1502057728.0000 - val_mae: 27047.7129\n",
            "Epoch 51/100\n",
            "35/35 [==============================] - 0s 4ms/step - loss: 1541003904.0000 - mae: 26480.0742 - val_loss: 1505710208.0000 - val_mae: 27003.7598\n",
            "Epoch 52/100\n",
            "35/35 [==============================] - 0s 3ms/step - loss: 1545257600.0000 - mae: 26536.1426 - val_loss: 1500538368.0000 - val_mae: 26950.7363\n",
            "Epoch 53/100\n",
            "35/35 [==============================] - 0s 3ms/step - loss: 1532396160.0000 - mae: 26476.8027 - val_loss: 1510240640.0000 - val_mae: 26935.1484\n",
            "Epoch 54/100\n",
            "35/35 [==============================] - 0s 3ms/step - loss: 1532643968.0000 - mae: 26348.9199 - val_loss: 1495516160.0000 - val_mae: 26801.8184\n",
            "Epoch 55/100\n",
            "35/35 [==============================] - 0s 3ms/step - loss: 1526681472.0000 - mae: 26268.9238 - val_loss: 1484913792.0000 - val_mae: 26726.3203\n",
            "Epoch 56/100\n",
            "35/35 [==============================] - 0s 4ms/step - loss: 1522619008.0000 - mae: 26275.4004 - val_loss: 1484192128.0000 - val_mae: 26668.1016\n",
            "Epoch 57/100\n",
            "35/35 [==============================] - 0s 3ms/step - loss: 1517601152.0000 - mae: 26244.6816 - val_loss: 1490381056.0000 - val_mae: 26668.1699\n",
            "Epoch 58/100\n",
            "35/35 [==============================] - 0s 3ms/step - loss: 1510621312.0000 - mae: 26150.8262 - val_loss: 1479431936.0000 - val_mae: 26556.6855\n",
            "Epoch 59/100\n",
            "35/35 [==============================] - 0s 4ms/step - loss: 1508319744.0000 - mae: 26115.0137 - val_loss: 1472790912.0000 - val_mae: 26500.6855\n",
            "Epoch 60/100\n",
            "35/35 [==============================] - 0s 5ms/step - loss: 1508277376.0000 - mae: 26113.1074 - val_loss: 1469942528.0000 - val_mae: 26473.7188\n",
            "Epoch 61/100\n",
            "35/35 [==============================] - 0s 4ms/step - loss: 1522701696.0000 - mae: 26397.8730 - val_loss: 1514289408.0000 - val_mae: 26594.6953\n",
            "Epoch 62/100\n",
            "35/35 [==============================] - 0s 4ms/step - loss: 1501226624.0000 - mae: 26045.2129 - val_loss: 1487799040.0000 - val_mae: 26420.7734\n",
            "Epoch 63/100\n",
            "35/35 [==============================] - 0s 3ms/step - loss: 1503457792.0000 - mae: 26008.2715 - val_loss: 1462283648.0000 - val_mae: 26275.9180\n",
            "Epoch 64/100\n",
            "35/35 [==============================] - 0s 3ms/step - loss: 1500209152.0000 - mae: 25937.8652 - val_loss: 1479320960.0000 - val_mae: 26317.9648\n",
            "Epoch 65/100\n",
            "35/35 [==============================] - 0s 3ms/step - loss: 1504853504.0000 - mae: 25970.7207 - val_loss: 1443242624.0000 - val_mae: 26233.8184\n",
            "Epoch 66/100\n",
            "35/35 [==============================] - 0s 4ms/step - loss: 1499196800.0000 - mae: 25943.3086 - val_loss: 1477030016.0000 - val_mae: 26286.4375\n",
            "Epoch 67/100\n",
            "35/35 [==============================] - 0s 3ms/step - loss: 1492865792.0000 - mae: 25948.7754 - val_loss: 1459628800.0000 - val_mae: 26144.2656\n",
            "Epoch 68/100\n",
            "35/35 [==============================] - 0s 3ms/step - loss: 1501922304.0000 - mae: 26050.5898 - val_loss: 1446392320.0000 - val_mae: 26173.8594\n",
            "Epoch 69/100\n",
            "35/35 [==============================] - 0s 3ms/step - loss: 1501810048.0000 - mae: 25866.9258 - val_loss: 1438578560.0000 - val_mae: 26102.2949\n",
            "Epoch 70/100\n",
            "35/35 [==============================] - 0s 3ms/step - loss: 1496601856.0000 - mae: 25903.2148 - val_loss: 1457748096.0000 - val_mae: 26079.0059\n",
            "Epoch 71/100\n",
            "35/35 [==============================] - 0s 3ms/step - loss: 1487453312.0000 - mae: 25818.8203 - val_loss: 1454334208.0000 - val_mae: 26074.2051\n",
            "Epoch 72/100\n",
            "35/35 [==============================] - 0s 3ms/step - loss: 1487088512.0000 - mae: 25805.9141 - val_loss: 1451080320.0000 - val_mae: 26036.0117\n",
            "Epoch 73/100\n",
            "35/35 [==============================] - 0s 3ms/step - loss: 1481940608.0000 - mae: 25721.2891 - val_loss: 1453248000.0000 - val_mae: 26003.9805\n",
            "Epoch 74/100\n",
            "35/35 [==============================] - 0s 3ms/step - loss: 1478793984.0000 - mae: 25712.6621 - val_loss: 1447879424.0000 - val_mae: 25945.3926\n",
            "Epoch 75/100\n",
            "35/35 [==============================] - 0s 4ms/step - loss: 1475851520.0000 - mae: 25676.2773 - val_loss: 1438969344.0000 - val_mae: 25917.9336\n",
            "Epoch 76/100\n",
            "35/35 [==============================] - 0s 4ms/step - loss: 1479084416.0000 - mae: 25626.8418 - val_loss: 1455464704.0000 - val_mae: 25984.3691\n",
            "Epoch 77/100\n",
            "35/35 [==============================] - 0s 3ms/step - loss: 1480643712.0000 - mae: 25681.6328 - val_loss: 1448848256.0000 - val_mae: 25905.7012\n",
            "Epoch 78/100\n",
            "35/35 [==============================] - 0s 4ms/step - loss: 1470841472.0000 - mae: 25605.1816 - val_loss: 1437288704.0000 - val_mae: 25794.7559\n",
            "Epoch 79/100\n",
            "35/35 [==============================] - 0s 3ms/step - loss: 1467553408.0000 - mae: 25568.7070 - val_loss: 1422899328.0000 - val_mae: 25800.7266\n",
            "Epoch 80/100\n",
            "35/35 [==============================] - 0s 4ms/step - loss: 1484559872.0000 - mae: 25592.9668 - val_loss: 1430945280.0000 - val_mae: 25789.1406\n",
            "Epoch 81/100\n",
            "35/35 [==============================] - 0s 3ms/step - loss: 1474102784.0000 - mae: 25600.2930 - val_loss: 1411206400.0000 - val_mae: 25721.9316\n",
            "Epoch 82/100\n",
            "35/35 [==============================] - 0s 3ms/step - loss: 1466556160.0000 - mae: 25572.6484 - val_loss: 1432112768.0000 - val_mae: 25725.2734\n",
            "Epoch 83/100\n",
            "35/35 [==============================] - 0s 4ms/step - loss: 1462566912.0000 - mae: 25464.9043 - val_loss: 1418479104.0000 - val_mae: 25639.8770\n",
            "Epoch 84/100\n",
            "35/35 [==============================] - 0s 4ms/step - loss: 1458581248.0000 - mae: 25476.8809 - val_loss: 1439199872.0000 - val_mae: 25783.6602\n",
            "Epoch 85/100\n",
            "35/35 [==============================] - 0s 3ms/step - loss: 1465528960.0000 - mae: 25507.8145 - val_loss: 1425727232.0000 - val_mae: 25685.4766\n",
            "Epoch 86/100\n",
            "35/35 [==============================] - 0s 3ms/step - loss: 1462731392.0000 - mae: 25422.1113 - val_loss: 1430317056.0000 - val_mae: 25669.7500\n",
            "Epoch 87/100\n",
            "35/35 [==============================] - 0s 3ms/step - loss: 1472559104.0000 - mae: 25516.0879 - val_loss: 1429665920.0000 - val_mae: 25592.9316\n",
            "Epoch 88/100\n",
            "35/35 [==============================] - 0s 6ms/step - loss: 1454663552.0000 - mae: 25411.4121 - val_loss: 1413192064.0000 - val_mae: 25522.4199\n",
            "Epoch 89/100\n",
            "35/35 [==============================] - 0s 14ms/step - loss: 1457237504.0000 - mae: 25389.8652 - val_loss: 1408673280.0000 - val_mae: 25511.3398\n",
            "Epoch 90/100\n",
            "35/35 [==============================] - 0s 9ms/step - loss: 1461184640.0000 - mae: 25402.2148 - val_loss: 1430120192.0000 - val_mae: 25557.7012\n",
            "Epoch 91/100\n",
            "35/35 [==============================] - 0s 4ms/step - loss: 1463417600.0000 - mae: 25393.3379 - val_loss: 1418841600.0000 - val_mae: 25512.3867\n",
            "Epoch 92/100\n",
            "35/35 [==============================] - 0s 4ms/step - loss: 1456534784.0000 - mae: 25373.2480 - val_loss: 1439097216.0000 - val_mae: 25642.1445\n",
            "Epoch 93/100\n",
            "35/35 [==============================] - 0s 8ms/step - loss: 1454948096.0000 - mae: 25357.4590 - val_loss: 1422594432.0000 - val_mae: 25456.0664\n",
            "Epoch 94/100\n",
            "35/35 [==============================] - 0s 13ms/step - loss: 1449637504.0000 - mae: 25297.0176 - val_loss: 1413002880.0000 - val_mae: 25448.1172\n",
            "Epoch 95/100\n",
            "35/35 [==============================] - 0s 9ms/step - loss: 1445601152.0000 - mae: 25253.7109 - val_loss: 1430006272.0000 - val_mae: 25518.6602\n",
            "Epoch 96/100\n",
            "35/35 [==============================] - 0s 3ms/step - loss: 1445308544.0000 - mae: 25233.9746 - val_loss: 1395383168.0000 - val_mae: 25405.2129\n",
            "Epoch 97/100\n",
            "35/35 [==============================] - 0s 4ms/step - loss: 1473073920.0000 - mae: 25577.3320 - val_loss: 1436238720.0000 - val_mae: 25440.3125\n",
            "Epoch 98/100\n",
            "35/35 [==============================] - 0s 3ms/step - loss: 1460742912.0000 - mae: 25365.4512 - val_loss: 1423282816.0000 - val_mae: 25444.4141\n",
            "Epoch 99/100\n",
            "35/35 [==============================] - 0s 12ms/step - loss: 1440877696.0000 - mae: 25233.3887 - val_loss: 1427884928.0000 - val_mae: 25392.6953\n",
            "Epoch 100/100\n",
            "35/35 [==============================] - 0s 13ms/step - loss: 1442003712.0000 - mae: 25229.3633 - val_loss: 1417457920.0000 - val_mae: 25388.4375\n"
          ]
        }
      ]
    },
    {
      "cell_type": "code",
      "source": [
        "plt.plot(history.history['loss'], label='Train loss')\n",
        "plt.plot(history.history['val_loss'], label='Test Loss')\n",
        "plt.legend();"
      ],
      "metadata": {
        "colab": {
          "base_uri": "https://localhost:8080/",
          "height": 276
        },
        "id": "EF1WLqyO_vIT",
        "outputId": "72e9ec95-61cb-43cb-d008-72262fd384d5"
      },
      "execution_count": null,
      "outputs": [
        {
          "output_type": "display_data",
          "data": {
            "image/png": "[encoded data removed]",
            "text/plain": [
              "<Figure size 432x288 with 1 Axes>"
            ]
          },
          "metadata": {
            "needs_background": "light"
          }
        }
      ]
    },
    {
      "cell_type": "code",
      "source": [
        "type(test)"
      ],
      "metadata": {
        "colab": {
          "base_uri": "https://localhost:8080/"
        },
        "id": "gXwClkQgFBXy",
        "outputId": "fee15467-0886-4ee4-bae8-c50ec47eab09"
      },
      "execution_count": null,
      "outputs": [
        {
          "output_type": "execute_result",
          "data": {
            "text/plain": [
              "pandas.core.frame.DataFrame"
            ]
          },
          "metadata": {},
          "execution_count": 31
        }
      ]
    },
    {
      "cell_type": "code",
      "source": [
        "test.info()"
      ],
      "metadata": {
        "colab": {
          "base_uri": "https://localhost:8080/"
        },
        "id": "eZMsKId5Ga2L",
        "outputId": "5551ffd3-3c0a-471a-85f7-37d44e061c1e"
      },
      "execution_count": null,
      "outputs": [
        {
          "output_type": "stream",
          "name": "stdout",
          "text": [
            "<class 'pandas.core.frame.DataFrame'>\n",
            "RangeIndex: 1459 entries, 0 to 1458\n",
            "Data columns (total 7 columns):\n",
            " #   Column        Non-Null Count  Dtype\n",
            "---  ------        --------------  -----\n",
            " 0   LotArea       1459 non-null   int64\n",
            " 1   OverallQual   1459 non-null   int64\n",
            " 2   OverallCond   1459 non-null   int64\n",
            " 3   GrLivArea     1459 non-null   int64\n",
            " 4   FullBath      1459 non-null   int64\n",
            " 5   HalfBath      1459 non-null   int64\n",
            " 6   BedroomAbvGr  1459 non-null   int64\n",
            "dtypes: int64(7)\n",
            "memory usage: 79.9 KB\n"
          ]
        }
      ]
    },
    {
      "cell_type": "markdown",
      "metadata": {
        "id": "gSThpNuAHyKM"
      },
      "source": [
        "###Submit"
      ]
    },
    {
      "cell_type": "code",
      "source": [
        "X_test_test = scaler.transform(test)"
      ],
      "metadata": {
        "id": "7Hf5fQiWLIKr"
      },
      "execution_count": null,
      "outputs": []
    },
    {
      "cell_type": "code",
      "source": [
        "pre = model.predict(X_test_test)"
      ],
      "metadata": {
        "id": "oUuNvU7_LsrI"
      },
      "execution_count": null,
      "outputs": []
    },
    {
      "cell_type": "code",
      "source": [
        "print(pre)"
      ],
      "metadata": {
        "colab": {
          "base_uri": "https://localhost:8080/"
        },
        "id": "TdF3Xxe7L277",
        "outputId": "6816ac68-9196-4262-ce46-fc2bdd2a272f"
      },
      "execution_count": null,
      "outputs": [
        {
          "output_type": "stream",
          "name": "stdout",
          "text": [
            "[[121512.65]\n",
            " [155587.61]\n",
            " [149763.66]\n",
            " ...\n",
            " [143823.61]\n",
            " [116358.44]\n",
            " [227838.08]]\n"
          ]
        }
      ]
    },
    {
      "cell_type": "code",
      "source": [
        "final_pre = []\n",
        "\n",
        "for i in pre:\n",
        "    temp = i\n",
        "    temp_str = str(temp)\n",
        "    temp_str = temp_str.replace(\"[\", \"\")\n",
        "    temp_str = temp_str.replace(']', '')\n",
        "    temp_num = float(temp_str)\n",
        "    final_pre.append(temp_num)\n"
      ],
      "metadata": {
        "id": "9Evzqf75X0Z7"
      },
      "execution_count": null,
      "outputs": []
    },
    {
      "cell_type": "code",
      "execution_count": null,
      "metadata": {
        "id": "zOfhsRj6HBuU"
      },
      "outputs": [],
      "source": [
        "Fianl_pre = LR_pipe.predict(test)"
      ]
    },
    {
      "cell_type": "code",
      "execution_count": null,
      "metadata": {
        "colab": {
          "base_uri": "https://localhost:8080/"
        },
        "id": "30t9SyRjHcaW",
        "outputId": "f1de9010-9087-467d-8308-afe5e0a74e14"
      },
      "outputs": [
        {
          "output_type": "stream",
          "name": "stdout",
          "text": [
            "[118114.51680473 163536.09742152 157897.07066758 ... 121440.10331393\n",
            " 109875.64243767 235398.27296669]\n"
          ]
        }
      ],
      "source": [
        "print(Fianl_pre)"
      ]
    },
    {
      "cell_type": "code",
      "source": [
        "type(Fianl_pre)"
      ],
      "metadata": {
        "colab": {
          "base_uri": "https://localhost:8080/"
        },
        "id": "2NunLjvDIlmA",
        "outputId": "b7fdd1c6-682d-4403-cb0d-a0296bb09f73"
      },
      "execution_count": null,
      "outputs": [
        {
          "output_type": "execute_result",
          "data": {
            "text/plain": [
              "numpy.ndarray"
            ]
          },
          "metadata": {},
          "execution_count": 39
        }
      ]
    },
    {
      "cell_type": "code",
      "execution_count": null,
      "metadata": {
        "id": "tBqyWx1fHhOu"
      },
      "outputs": [],
      "source": [
        "OutDF = pd.DataFrame({'Id':testDF['Id'], 'SalePrice': Fianl_pre})\n"
      ]
    },
    {
      "cell_type": "code",
      "source": [
        "OutDF.shape[1]"
      ],
      "metadata": {
        "colab": {
          "base_uri": "https://localhost:8080/"
        },
        "id": "ogDBgNn5-qJY",
        "outputId": "562165a7-f12b-4121-bcd0-205e8f96d02f"
      },
      "execution_count": null,
      "outputs": [
        {
          "output_type": "execute_result",
          "data": {
            "text/plain": [
              "2"
            ]
          },
          "metadata": {},
          "execution_count": 41
        }
      ]
    },
    {
      "cell_type": "code",
      "execution_count": null,
      "metadata": {
        "colab": {
          "base_uri": "https://localhost:8080/",
          "height": 206
        },
        "id": "WHkBsSebIkgE",
        "outputId": "c0b58297-e3d2-43a4-d613-67a271483020"
      },
      "outputs": [
        {
          "output_type": "execute_result",
          "data": {
            "text/html": [
              "\n",
              "  <div id=\"df-d2015375-5c45-45ca-ab23-958974f4bb6d\">\n",
              "    <div class=\"colab-df-container\">\n",
              "      <div>\n",
              "<style scoped>\n",
              "    .dataframe tbody tr th:only-of-type {\n",
              "        vertical-align: middle;\n",
              "    }\n",
              "\n",
              "    .dataframe tbody tr th {\n",
              "        vertical-align: top;\n",
              "    }\n",
              "\n",
              "    .dataframe thead th {\n",
              "        text-align: right;\n",
              "    }\n",
              "</style>\n",
              "<table border=\"1\" class=\"dataframe\">\n",
              "  <thead>\n",
              "    <tr style=\"text-align: right;\">\n",
              "      <th></th>\n",
              "      <th>Id</th>\n",
              "      <th>SalePrice</th>\n",
              "    </tr>\n",
              "  </thead>\n",
              "  <tbody>\n",
              "    <tr>\n",
              "      <th>0</th>\n",
              "      <td>1461</td>\n",
              "      <td>118114.516805</td>\n",
              "    </tr>\n",
              "    <tr>\n",
              "      <th>1</th>\n",
              "      <td>1462</td>\n",
              "      <td>163536.097422</td>\n",
              "    </tr>\n",
              "    <tr>\n",
              "      <th>2</th>\n",
              "      <td>1463</td>\n",
              "      <td>157897.070668</td>\n",
              "    </tr>\n",
              "    <tr>\n",
              "      <th>3</th>\n",
              "      <td>1464</td>\n",
              "      <td>184016.190469</td>\n",
              "    </tr>\n",
              "    <tr>\n",
              "      <th>4</th>\n",
              "      <td>1465</td>\n",
              "      <td>233566.855263</td>\n",
              "    </tr>\n",
              "  </tbody>\n",
              "</table>\n",
              "</div>\n",
              "      <button class=\"colab-df-convert\" onclick=\"convertToInteractive('df-d2015375-5c45-45ca-ab23-958974f4bb6d')\"\n",
              "              title=\"Convert this dataframe to an interactive table.\"\n",
              "              style=\"display:none;\">\n",
              "        \n",
              "  <svg xmlns=\"http://www.w3.org/2000/svg\" height=\"24px\"viewBox=\"0 0 24 24\"\n",
              "       width=\"24px\">\n",
              "    <path d=\"M0 0h24v24H0V0z\" fill=\"none\"/>\n",
              "    <path d=\"M18.56 5.44l.94 2.06.94-2.06 2.06-.94-2.06-.94-.94-2.06-.94 2.06-2.06.94zm-11 1L8.5 8.5l.94-2.06 2.06-.94-2.06-.94L8.5 2.5l-.94 2.06-2.06.94zm10 10l.94 2.06.94-2.06 2.06-.94-2.06-.94-.94-2.06-.94 2.06-2.06.94z\"/><path d=\"M17.41 7.96l-1.37-1.37c-.4-.4-.92-.59-1.43-.59-.52 0-1.04.2-1.43.59L10.3 9.45l-7.72 7.72c-.78.78-.78 2.05 0 2.83L4 21.41c.39.39.9.59 1.41.59.51 0 1.02-.2 1.41-.59l7.78-7.78 2.81-2.81c.8-.78.8-2.07 0-2.86zM5.41 20L4 18.59l7.72-7.72 1.47 1.35L5.41 20z\"/>\n",
              "  </svg>\n",
              "      </button>\n",
              "      \n",
              "  <style>\n",
              "    .colab-df-container {\n",
              "      display:flex;\n",
              "      flex-wrap:wrap;\n",
              "      gap: 12px;\n",
              "    }\n",
              "\n",
              "    .colab-df-convert {\n",
              "      background-color: #E8F0FE;\n",
              "      border: none;\n",
              "      border-radius: 50%;\n",
              "      cursor: pointer;\n",
              "      display: none;\n",
              "      fill: #1967D2;\n",
              "      height: 32px;\n",
              "      padding: 0 0 0 0;\n",
              "      width: 32px;\n",
              "    }\n",
              "\n",
              "    .colab-df-convert:hover {\n",
              "      background-color: #E2EBFA;\n",
              "      box-shadow: 0px 1px 2px rgba(60, 64, 67, 0.3), 0px 1px 3px 1px rgba(60, 64, 67, 0.15);\n",
              "      fill: #174EA6;\n",
              "    }\n",
              "\n",
              "    [theme=dark] .colab-df-convert {\n",
              "      background-color: #3B4455;\n",
              "      fill: #D2E3FC;\n",
              "    }\n",
              "\n",
              "    [theme=dark] .colab-df-convert:hover {\n",
              "      background-color: #434B5C;\n",
              "      box-shadow: 0px 1px 3px 1px rgba(0, 0, 0, 0.15);\n",
              "      filter: drop-shadow(0px 1px 2px rgba(0, 0, 0, 0.3));\n",
              "      fill: #FFFFFF;\n",
              "    }\n",
              "  </style>\n",
              "\n",
              "      <script>\n",
              "        const buttonEl =\n",
              "          document.querySelector('#df-d2015375-5c45-45ca-ab23-958974f4bb6d button.colab-df-convert');\n",
              "        buttonEl.style.display =\n",
              "          google.colab.kernel.accessAllowed ? 'block' : 'none';\n",
              "\n",
              "        async function convertToInteractive(key) {\n",
              "          const element = document.querySelector('#df-d2015375-5c45-45ca-ab23-958974f4bb6d');\n",
              "          const dataTable =\n",
              "            await google.colab.kernel.invokeFunction('convertToInteractive',\n",
              "                                                     [key], {});\n",
              "          if (!dataTable) return;\n",
              "\n",
              "          const docLinkHtml = 'Like what you see? Visit the ' +\n",
              "            '<a target=\"_blank\" href=https://colab.research.google.com/notebooks/data_table.ipynb>data table notebook</a>'\n",
              "            + ' to learn more about interactive tables.';\n",
              "          element.innerHTML = '';\n",
              "          dataTable['output_type'] = 'display_data';\n",
              "          await google.colab.output.renderOutput(dataTable, element);\n",
              "          const docLink = document.createElement('div');\n",
              "          docLink.innerHTML = docLinkHtml;\n",
              "          element.appendChild(docLink);\n",
              "        }\n",
              "      </script>\n",
              "    </div>\n",
              "  </div>\n",
              "  "
            ],
            "text/plain": [
              "     Id      SalePrice\n",
              "0  1461  118114.516805\n",
              "1  1462  163536.097422\n",
              "2  1463  157897.070668\n",
              "3  1464  184016.190469\n",
              "4  1465  233566.855263"
            ]
          },
          "metadata": {},
          "execution_count": 42
        }
      ],
      "source": [
        "OutDF.head()"
      ]
    },
    {
      "cell_type": "code",
      "execution_count": null,
      "metadata": {
        "colab": {
          "base_uri": "https://localhost:8080/"
        },
        "id": "x9BAewz1Jkk0",
        "outputId": "6bb21743-11f3-4ddb-db31-4cb37d4e77f5"
      },
      "outputs": [
        {
          "output_type": "stream",
          "name": "stdout",
          "text": [
            "<class 'pandas.core.frame.DataFrame'>\n",
            "RangeIndex: 1459 entries, 0 to 1458\n",
            "Data columns (total 2 columns):\n",
            " #   Column     Non-Null Count  Dtype  \n",
            "---  ------     --------------  -----  \n",
            " 0   Id         1459 non-null   int64  \n",
            " 1   SalePrice  1459 non-null   float64\n",
            "dtypes: float64(1), int64(1)\n",
            "memory usage: 22.9 KB\n"
          ]
        }
      ],
      "source": [
        "OutDF.info()"
      ]
    },
    {
      "cell_type": "code",
      "execution_count": null,
      "metadata": {
        "id": "flhKZxY9IqiU"
      },
      "outputs": [],
      "source": [
        "OutDF.to_csv('/content/drive/MyDrive/Boot  Camp/08 Week 8:/Kaggle/Submit.csv', index= False)"
      ]
    },
    {
      "cell_type": "code",
      "source": [
        "OutDF.to_csv(path_or_buf='kagglesubmission3.csv',index = False)\n"
      ],
      "metadata": {
        "id": "dMACgd-FGIv_"
      },
      "execution_count": null,
      "outputs": []
    },
    {
      "cell_type": "code",
      "source": [
        "type(pre)"
      ],
      "metadata": {
        "colab": {
          "base_uri": "https://localhost:8080/"
        },
        "id": "TqaoPrVvRDsj",
        "outputId": "36dd9156-81c8-4576-c0af-e6500eebb55d"
      },
      "execution_count": null,
      "outputs": [
        {
          "output_type": "execute_result",
          "data": {
            "text/plain": [
              "numpy.ndarray"
            ]
          },
          "metadata": {},
          "execution_count": 46
        }
      ]
    },
    {
      "cell_type": "code",
      "source": [
        "pre_list = pre.tolist()"
      ],
      "metadata": {
        "id": "wwe5NPR_SQxT"
      },
      "execution_count": null,
      "outputs": []
    },
    {
      "cell_type": "code",
      "source": [
        "type(pre_list)"
      ],
      "metadata": {
        "colab": {
          "base_uri": "https://localhost:8080/"
        },
        "id": "orGo5m2rWuQr",
        "outputId": "092aa2d8-aae9-4bee-fb50-d8c2ccc08325"
      },
      "execution_count": null,
      "outputs": [
        {
          "output_type": "execute_result",
          "data": {
            "text/plain": [
              "list"
            ]
          },
          "metadata": {},
          "execution_count": 57
        }
      ]
    },
    {
      "cell_type": "code",
      "source": [
        "type(Fianl_pre[1])"
      ],
      "metadata": {
        "colab": {
          "base_uri": "https://localhost:8080/"
        },
        "id": "XB5_vSImUOWQ",
        "outputId": "cf3dc79c-38fe-4d51-ea3b-24f723775c15"
      },
      "execution_count": null,
      "outputs": [
        {
          "output_type": "execute_result",
          "data": {
            "text/plain": [
              "numpy.float64"
            ]
          },
          "metadata": {},
          "execution_count": 49
        }
      ]
    },
    {
      "cell_type": "code",
      "source": [
        "OutDFtwo = pd.DataFrame({'Id':testDF['Id'], 'SalePrice': final_pre})"
      ],
      "metadata": {
        "id": "tOqBD84pQYMB"
      },
      "execution_count": null,
      "outputs": []
    },
    {
      "cell_type": "code",
      "source": [
        "OutDFtwo.head()"
      ],
      "metadata": {
        "colab": {
          "base_uri": "https://localhost:8080/",
          "height": 206
        },
        "id": "sdvnrBb4UGDe",
        "outputId": "fd173590-87c1-489f-e257-efffff73fda8"
      },
      "execution_count": null,
      "outputs": [
        {
          "output_type": "execute_result",
          "data": {
            "text/html": [
              "\n",
              "  <div id=\"df-e532762a-d8f5-4418-9703-24e42cfe2442\">\n",
              "    <div class=\"colab-df-container\">\n",
              "      <div>\n",
              "<style scoped>\n",
              "    .dataframe tbody tr th:only-of-type {\n",
              "        vertical-align: middle;\n",
              "    }\n",
              "\n",
              "    .dataframe tbody tr th {\n",
              "        vertical-align: top;\n",
              "    }\n",
              "\n",
              "    .dataframe thead th {\n",
              "        text-align: right;\n",
              "    }\n",
              "</style>\n",
              "<table border=\"1\" class=\"dataframe\">\n",
              "  <thead>\n",
              "    <tr style=\"text-align: right;\">\n",
              "      <th></th>\n",
              "      <th>Id</th>\n",
              "      <th>SalePrice</th>\n",
              "    </tr>\n",
              "  </thead>\n",
              "  <tbody>\n",
              "    <tr>\n",
              "      <th>0</th>\n",
              "      <td>1461</td>\n",
              "      <td>121512.65</td>\n",
              "    </tr>\n",
              "    <tr>\n",
              "      <th>1</th>\n",
              "      <td>1462</td>\n",
              "      <td>155587.61</td>\n",
              "    </tr>\n",
              "    <tr>\n",
              "      <th>2</th>\n",
              "      <td>1463</td>\n",
              "      <td>149763.66</td>\n",
              "    </tr>\n",
              "    <tr>\n",
              "      <th>3</th>\n",
              "      <td>1464</td>\n",
              "      <td>173456.66</td>\n",
              "    </tr>\n",
              "    <tr>\n",
              "      <th>4</th>\n",
              "      <td>1465</td>\n",
              "      <td>252843.80</td>\n",
              "    </tr>\n",
              "  </tbody>\n",
              "</table>\n",
              "</div>\n",
              "      <button class=\"colab-df-convert\" onclick=\"convertToInteractive('df-e532762a-d8f5-4418-9703-24e42cfe2442')\"\n",
              "              title=\"Convert this dataframe to an interactive table.\"\n",
              "              style=\"display:none;\">\n",
              "        \n",
              "  <svg xmlns=\"http://www.w3.org/2000/svg\" height=\"24px\"viewBox=\"0 0 24 24\"\n",
              "       width=\"24px\">\n",
              "    <path d=\"M0 0h24v24H0V0z\" fill=\"none\"/>\n",
              "    <path d=\"M18.56 5.44l.94 2.06.94-2.06 2.06-.94-2.06-.94-.94-2.06-.94 2.06-2.06.94zm-11 1L8.5 8.5l.94-2.06 2.06-.94-2.06-.94L8.5 2.5l-.94 2.06-2.06.94zm10 10l.94 2.06.94-2.06 2.06-.94-2.06-.94-.94-2.06-.94 2.06-2.06.94z\"/><path d=\"M17.41 7.96l-1.37-1.37c-.4-.4-.92-.59-1.43-.59-.52 0-1.04.2-1.43.59L10.3 9.45l-7.72 7.72c-.78.78-.78 2.05 0 2.83L4 21.41c.39.39.9.59 1.41.59.51 0 1.02-.2 1.41-.59l7.78-7.78 2.81-2.81c.8-.78.8-2.07 0-2.86zM5.41 20L4 18.59l7.72-7.72 1.47 1.35L5.41 20z\"/>\n",
              "  </svg>\n",
              "      </button>\n",
              "      \n",
              "  <style>\n",
              "    .colab-df-container {\n",
              "      display:flex;\n",
              "      flex-wrap:wrap;\n",
              "      gap: 12px;\n",
              "    }\n",
              "\n",
              "    .colab-df-convert {\n",
              "      background-color: #E8F0FE;\n",
              "      border: none;\n",
              "      border-radius: 50%;\n",
              "      cursor: pointer;\n",
              "      display: none;\n",
              "      fill: #1967D2;\n",
              "      height: 32px;\n",
              "      padding: 0 0 0 0;\n",
              "      width: 32px;\n",
              "    }\n",
              "\n",
              "    .colab-df-convert:hover {\n",
              "      background-color: #E2EBFA;\n",
              "      box-shadow: 0px 1px 2px rgba(60, 64, 67, 0.3), 0px 1px 3px 1px rgba(60, 64, 67, 0.15);\n",
              "      fill: #174EA6;\n",
              "    }\n",
              "\n",
              "    [theme=dark] .colab-df-convert {\n",
              "      background-color: #3B4455;\n",
              "      fill: #D2E3FC;\n",
              "    }\n",
              "\n",
              "    [theme=dark] .colab-df-convert:hover {\n",
              "      background-color: #434B5C;\n",
              "      box-shadow: 0px 1px 3px 1px rgba(0, 0, 0, 0.15);\n",
              "      filter: drop-shadow(0px 1px 2px rgba(0, 0, 0, 0.3));\n",
              "      fill: #FFFFFF;\n",
              "    }\n",
              "  </style>\n",
              "\n",
              "      <script>\n",
              "        const buttonEl =\n",
              "          document.querySelector('#df-e532762a-d8f5-4418-9703-24e42cfe2442 button.colab-df-convert');\n",
              "        buttonEl.style.display =\n",
              "          google.colab.kernel.accessAllowed ? 'block' : 'none';\n",
              "\n",
              "        async function convertToInteractive(key) {\n",
              "          const element = document.querySelector('#df-e532762a-d8f5-4418-9703-24e42cfe2442');\n",
              "          const dataTable =\n",
              "            await google.colab.kernel.invokeFunction('convertToInteractive',\n",
              "                                                     [key], {});\n",
              "          if (!dataTable) return;\n",
              "\n",
              "          const docLinkHtml = 'Like what you see? Visit the ' +\n",
              "            '<a target=\"_blank\" href=https://colab.research.google.com/notebooks/data_table.ipynb>data table notebook</a>'\n",
              "            + ' to learn more about interactive tables.';\n",
              "          element.innerHTML = '';\n",
              "          dataTable['output_type'] = 'display_data';\n",
              "          await google.colab.output.renderOutput(dataTable, element);\n",
              "          const docLink = document.createElement('div');\n",
              "          docLink.innerHTML = docLinkHtml;\n",
              "          element.appendChild(docLink);\n",
              "        }\n",
              "      </script>\n",
              "    </div>\n",
              "  </div>\n",
              "  "
            ],
            "text/plain": [
              "     Id  SalePrice\n",
              "0  1461  121512.65\n",
              "1  1462  155587.61\n",
              "2  1463  149763.66\n",
              "3  1464  173456.66\n",
              "4  1465  252843.80"
            ]
          },
          "metadata": {},
          "execution_count": 85
        }
      ]
    },
    {
      "cell_type": "code",
      "source": [
        "OutDFtwo.to_csv('/content/drive/MyDrive/Boot  Camp/08 Week 8:/Kaggle/SubmitTwo.csv', index= False)"
      ],
      "metadata": {
        "id": "icgoZp11Qc3Z"
      },
      "execution_count": null,
      "outputs": []
    }
  ],
  "metadata": {
    "colab": {
      "name": "Neural Network Kaggle Exercise (Core).ipynb",
      "provenance": [],
      "collapsed_sections": [],
      "mount_file_id": "1JbbwtFoYOrJBnz9qj8PCKn7uIYOwnpP-",
      "authorship_tag": "ABX9TyNuUj529KeHGFJ9xpl/dx2G",
      "include_colab_link": true
    },
    "kernelspec": {
      "display_name": "Python 3",
      "name": "python3"
    },
    "language_info": {
      "name": "python"
    }
  },
  "nbformat": 4,
  "nbformat_minor": 0
}